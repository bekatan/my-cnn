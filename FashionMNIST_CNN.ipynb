{
 "cells": [
  {
   "cell_type": "code",
   "execution_count": 1,
   "metadata": {},
   "outputs": [],
   "source": [
    "bs = 256\n",
    "lr = 0.1\n",
    "epochs = 20"
   ]
  },
  {
   "cell_type": "code",
   "execution_count": 2,
   "metadata": {},
   "outputs": [],
   "source": [
    "from torchvision.transforms import ToTensor, Lambda\n",
    "from torchvision import datasets\n",
    "from torch.utils.data import DataLoader\n",
    "from torch import nn\n",
    "import torch\n",
    "\n",
    "\n",
    "train_ds = datasets.FashionMNIST(\n",
    "    root='data',\n",
    "    train=True,\n",
    "    download=True,\n",
    "    transform=ToTensor()\n",
    ")\n",
    "\n",
    "valid_ds = datasets.FashionMNIST(\n",
    "    root='data',\n",
    "    train=False,\n",
    "    download=True,\n",
    "    transform=ToTensor()\n",
    ")"
   ]
  },
  {
   "cell_type": "code",
   "execution_count": 3,
   "metadata": {},
   "outputs": [
    {
     "data": {
      "text/plain": [
       "torch.Size([1, 28, 28])"
      ]
     },
     "execution_count": 3,
     "metadata": {},
     "output_type": "execute_result"
    }
   ],
   "source": [
    "train_ds.__getitem__(0)[0].shape"
   ]
  },
  {
   "cell_type": "code",
   "execution_count": 4,
   "metadata": {},
   "outputs": [
    {
     "name": "stdout",
     "output_type": "stream",
     "text": [
      "9\n"
     ]
    },
    {
     "data": {
      "image/png": "[encoded data removed]",
      "text/plain": [
       "<Figure size 432x288 with 1 Axes>"
      ]
     },
     "metadata": {
      "needs_background": "light"
     },
     "output_type": "display_data"
    }
   ],
   "source": [
    "from matplotlib import pyplot\n",
    "import numpy as np\n",
    "\n",
    "pyplot.imshow(train_ds.__getitem__(0)[0].reshape((28, 28)), cmap=\"gray\")\n",
    "print(train_ds.__getitem__(0)[1])"
   ]
  },
  {
   "cell_type": "code",
   "execution_count": 5,
   "metadata": {},
   "outputs": [],
   "source": [
    "def accuracy(loader, model):\n",
    "    num_correct = 0\n",
    "    num_samples = 0\n",
    "    model.eval()\n",
    "    \n",
    "    with torch.no_grad():\n",
    "        for x, y in loader:\n",
    "            scores = model(x)\n",
    "            _, predictions = scores.max(1)\n",
    "            num_correct += (predictions == y).sum()\n",
    "            num_samples += predictions.size(0)\n",
    "        \n",
    "    model.train()\n",
    "    return \"%.2f\" % float(num_correct/num_samples*100)"
   ]
  },
  {
   "cell_type": "code",
   "execution_count": 6,
   "metadata": {},
   "outputs": [],
   "source": [
    "def loss_batch(model, loss_func, xb, yb, opt=None):\n",
    "    loss = loss_func(model(xb), yb)\n",
    "\n",
    "    if opt is not None:\n",
    "        loss.backward()\n",
    "        opt.step()\n",
    "        opt.zero_grad()\n",
    "\n",
    "    return loss.item(), len(xb)"
   ]
  },
  {
   "cell_type": "code",
   "execution_count": 7,
   "metadata": {},
   "outputs": [],
   "source": [
    "def fit(epochs, model, loss_func, opt, train_dl, valid_dl):\n",
    "    for epoch in range(epochs):\n",
    "        model.train()\n",
    "        for xb, yb in train_dl:\n",
    "            loss_batch(model, loss_func, xb, yb, opt)\n",
    "\n",
    "        model.eval()\n",
    "        with torch.no_grad():\n",
    "            losses, nums = zip(\n",
    "                *[loss_batch(model, loss_func, xb, yb) for xb, yb in valid_dl]\n",
    "            )\n",
    "        val_loss = np.sum(np.multiply(losses, nums)) / np.sum(nums)\n",
    "    \n",
    "        print(epoch, \": loss:\" , val_loss, \" accuracy:\", accuracy(valid_dl, model))"
   ]
  },
  {
   "cell_type": "code",
   "execution_count": 8,
   "metadata": {},
   "outputs": [],
   "source": [
    "def get_data(train_ds, valid_ds, bs):\n",
    "    return (\n",
    "        DataLoader(train_ds, batch_size=bs, shuffle=True),\n",
    "        DataLoader(valid_ds, batch_size=bs * 2),\n",
    "    )"
   ]
  },
  {
   "cell_type": "code",
   "execution_count": 9,
   "metadata": {},
   "outputs": [],
   "source": [
    "\n",
    "\n",
    "class Lambda(nn.Module):\n",
    "    def __init__(self, func):\n",
    "        super().__init__()\n",
    "        self.func = func\n",
    "\n",
    "    def forward(self, x):\n",
    "        return self.func(x)"
   ]
  },
  {
   "cell_type": "code",
   "execution_count": 10,
   "metadata": {},
   "outputs": [],
   "source": [
    "dev = torch.device(\n",
    "    \"cuda\") if torch.cuda.is_available() else torch.device(\"cpu\")"
   ]
  },
  {
   "cell_type": "code",
   "execution_count": 11,
   "metadata": {},
   "outputs": [],
   "source": [
    "def preprocess(x, y):\n",
    "    return x.view(-1, 1, 28, 28).to(dev), y.to(dev)\n",
    "\n",
    "\n",
    "class WrappedDataLoader:\n",
    "    def __init__(self, dl, func):\n",
    "        self.dl = dl\n",
    "        self.func = func\n",
    "\n",
    "    def __len__(self):\n",
    "        return len(self.dl)\n",
    "\n",
    "    def __iter__(self):\n",
    "        batches = iter(self.dl)\n",
    "        for b in batches:\n",
    "            yield (self.func(*b))\n",
    "\n",
    "train_dl, valid_dl = get_data(train_ds, valid_ds, bs)\n",
    "train_dl = WrappedDataLoader(train_dl, preprocess)\n",
    "valid_dl = WrappedDataLoader(valid_dl, preprocess)"
   ]
  },
  {
   "cell_type": "code",
   "execution_count": 12,
   "metadata": {},
   "outputs": [],
   "source": [
    "from torch import optim\n",
    "import torch.nn.functional as F\n",
    "\n",
    "loss_func = F.cross_entropy\n",
    "\n",
    "class NeuralNetwork(nn.Module):\n",
    "    def __init__(self):\n",
    "        super(NeuralNetwork, self).__init__()\n",
    "        self.flatten = nn.Flatten()\n",
    "        self.linear_relu_stack = nn.Sequential(\n",
    "            nn.Linear(28*28, 512),\n",
    "            nn.ReLU(),\n",
    "            nn.Linear(512, 512),\n",
    "            nn.ReLU(),\n",
    "            nn.Linear(512, 10),\n",
    "        )\n",
    "\n",
    "    def forward(self, x):\n",
    "        x = self.flatten(x)\n",
    "        logits = self.linear_relu_stack(x)\n",
    "        return logits\n",
    "\n",
    "modelCNN = nn.Sequential(\n",
    "    nn.Conv2d(1, 16, kernel_size=3, stride=2, padding=1),\n",
    "    nn.ReLU(),\n",
    "    nn.Conv2d(16, 16, kernel_size=3, stride=2, padding=1),\n",
    "    nn.ReLU(),\n",
    "    nn.Conv2d(16, 10, kernel_size=3, stride=2, padding=1),\n",
    "    nn.ReLU(),\n",
    "    nn.AdaptiveAvgPool2d(1),\n",
    "    Lambda(lambda x: x.view(x.size(0), -1)),\n",
    ").to(dev)\n",
    "\n",
    "modelMLP = NeuralNetwork().to(dev)\n",
    "\n",
    "optCNN = optim.SGD(modelCNN.parameters(), lr=lr, momentum=0.9)\n",
    "optMLP = optim.SGD(modelMLP.parameters(), lr=lr, momentum=0.9)"
   ]
  },
  {
   "cell_type": "code",
   "execution_count": 13,
   "metadata": {},
   "outputs": [],
   "source": [
    "model_parameters = filter(lambda p: p.requires_grad, modelCNN.parameters())\n",
    "paramsCNN = sum([np.prod(p.size()) for p in model_parameters])"
   ]
  },
  {
   "cell_type": "code",
   "execution_count": 14,
   "metadata": {},
   "outputs": [],
   "source": [
    "model_parameters = filter(lambda p: p.requires_grad, modelMLP.parameters())\n",
    "paramsMLP = sum([np.prod(p.size()) for p in model_parameters])"
   ]
  },
  {
   "cell_type": "code",
   "execution_count": 15,
   "metadata": {},
   "outputs": [
    {
     "name": "stdout",
     "output_type": "stream",
     "text": [
      "CNN model with  3930  parameters\n",
      "0 : loss: 0.8227554174423217  accuracy: 70.67\n",
      "1 : loss: 0.8101805722236634  accuracy: 68.37\n",
      "2 : loss: 0.5545409452438355  accuracy: 80.44\n",
      "3 : loss: 0.545606254196167  accuracy: 80.95\n",
      "4 : loss: 0.5012012807846069  accuracy: 82.25\n",
      "5 : loss: 0.5087609139442444  accuracy: 82.19\n",
      "6 : loss: 0.4938959129333496  accuracy: 82.08\n",
      "7 : loss: 0.4733497972011566  accuracy: 82.75\n",
      "8 : loss: 0.4626844910144806  accuracy: 83.11\n",
      "9 : loss: 0.47577910652160643  accuracy: 83.24\n",
      "10 : loss: 0.44047205238342285  accuracy: 83.94\n",
      "11 : loss: 0.4327656965732574  accuracy: 84.41\n",
      "12 : loss: 0.4345072291374207  accuracy: 84.37\n",
      "13 : loss: 0.41947286434173586  accuracy: 84.84\n",
      "14 : loss: 0.43103913011550904  accuracy: 84.62\n",
      "15 : loss: 0.4263362976551056  accuracy: 84.46\n",
      "16 : loss: 0.43572401161193847  accuracy: 84.17\n",
      "17 : loss: 0.42769895195961  accuracy: 84.52\n",
      "18 : loss: 0.4082241670131683  accuracy: 85.14\n",
      "19 : loss: 0.4169861696243286  accuracy: 84.56\n",
      "CNN model done in  56.1253821849823 !\n"
     ]
    }
   ],
   "source": [
    "import time\n",
    "\n",
    "start = time.time()\n",
    "print(\"CNN model with \", paramsCNN, \" parameters\")\n",
    "fit(epochs, modelCNN, loss_func, optCNN, train_dl, valid_dl)\n",
    "print(\"CNN model done in \", (time.time() - start) ,\"!\")"
   ]
  },
  {
   "cell_type": "code",
   "execution_count": 16,
   "metadata": {},
   "outputs": [
    {
     "name": "stdout",
     "output_type": "stream",
     "text": [
      "MLP model with  669706  parameters\n",
      "0 : loss: 0.48072985439300536  accuracy: 82.42\n",
      "1 : loss: 0.41261579413414  accuracy: 85.12\n",
      "2 : loss: 0.40197105627059937  accuracy: 85.63\n",
      "3 : loss: 0.3517398661136627  accuracy: 87.34\n",
      "4 : loss: 0.36066475949287413  accuracy: 86.77\n",
      "5 : loss: 0.3631916656494141  accuracy: 86.46\n",
      "6 : loss: 0.3361935196638107  accuracy: 88.07\n",
      "7 : loss: 0.3552147439956665  accuracy: 86.75\n",
      "8 : loss: 0.3369646210193634  accuracy: 87.34\n",
      "9 : loss: 0.3351933843612671  accuracy: 87.68\n",
      "10 : loss: 0.3275769112110138  accuracy: 88.31\n",
      "11 : loss: 0.36772255415916444  accuracy: 86.94\n",
      "12 : loss: 0.35388381757736204  accuracy: 87.44\n",
      "13 : loss: 0.324196900177002  accuracy: 88.82\n",
      "14 : loss: 0.32726354475021363  accuracy: 88.88\n",
      "15 : loss: 0.3264715483665466  accuracy: 89.29\n",
      "16 : loss: 0.34352032742500305  accuracy: 88.87\n",
      "17 : loss: 0.3383156363964081  accuracy: 88.67\n",
      "18 : loss: 0.3325764519453049  accuracy: 88.29\n",
      "19 : loss: 0.33909751195907595  accuracy: 88.89\n",
      "MLP model done in  54.2740273475647 !\n"
     ]
    }
   ],
   "source": [
    "import time\n",
    "start = time.time()\n",
    "print(\"MLP model with \", paramsMLP, \" parameters\")\n",
    "fit(epochs, modelMLP, loss_func, optMLP, train_dl, valid_dl)\n",
    "print(\"MLP model done in \", (time.time() - start) ,\"!\")"
   ]
  }
 ],
 "metadata": {
  "kernelspec": {
   "display_name": "Python 3.8.13 ('demoCNN')",
   "language": "python",
   "name": "python3"
  },
  "language_info": {
   "codemirror_mode": {
    "name": "ipython",
    "version": 3
   },
   "file_extension": ".py",
   "mimetype": "text/x-python",
   "name": "python",
   "nbconvert_exporter": "python",
   "pygments_lexer": "ipython3",
   "version": "3.8.13"
  },
  "orig_nbformat": 4,
  "vscode": {
   "interpreter": {
    "hash": "3bb6b513b7f9581c7be317799a426b64321755ec7ec804f5f8284e01d17fbc1f"
   }
  }
 },
 "nbformat": 4,
 "nbformat_minor": 2
}
